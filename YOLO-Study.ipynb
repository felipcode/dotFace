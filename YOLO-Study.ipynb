{
 "cells": [
  {
   "cell_type": "markdown",
   "id": "fccb156d-3b8c-40f4-9162-7413f4724ada",
   "metadata": {},
   "source": [
    "# Imports"
   ]
  },
  {
   "cell_type": "code",
   "execution_count": 2,
   "id": "834d6b54-a5f7-4682-89ed-4eb260bead04",
   "metadata": {},
   "outputs": [
    {
     "data": {
      "text/plain": [
       "91"
      ]
     },
     "execution_count": 2,
     "metadata": {},
     "output_type": "execute_result"
    }
   ],
   "source": [
    "import numpy as np\n",
    "import cv2\n",
    "import torch\n",
    "import torchvision\n",
    "import cvzone\n",
    "from facenet_pytorch import MTCNN, InceptionResnetV1\n",
    "device = 'cuda' if torch.cuda.is_available() else 'cpu'\n",
    "classes_names =[]\n",
    "with open('./classes-vgg.txt', 'r') as f:\n",
    "    classes_names = f.read().splitlines() \n",
    "len(classes_names)"
   ]
  },
  {
   "cell_type": "code",
   "execution_count": 3,
   "id": "de53155a-b0de-49e7-9d0b-d535f47febbe",
   "metadata": {},
   "outputs": [],
   "source": [
    "image_path = './Images/Human/2048213_europeana_fashion_h.webp'\n",
    "img_p = './Images/000035.jpg'"
   ]
  },
  {
   "cell_type": "code",
   "execution_count": 88,
   "id": "5d142b59-d934-46c4-afa7-af0c42dbe545",
   "metadata": {},
   "outputs": [],
   "source": [
    "down_width = 800\n",
    "down_height = 1000\n",
    "down_points = (down_width, down_height)"
   ]
  },
  {
   "cell_type": "code",
   "execution_count": 3,
   "id": "9b33aad8-5335-4303-80ca-436b5836de07",
   "metadata": {},
   "outputs": [
    {
     "data": {
      "text/plain": [
       "SSD(\n",
       "  (backbone): SSDFeatureExtractorVGG(\n",
       "    (features): Sequential(\n",
       "      (0): Conv2d(3, 64, kernel_size=(3, 3), stride=(1, 1), padding=(1, 1))\n",
       "      (1): ReLU(inplace=True)\n",
       "      (2): Conv2d(64, 64, kernel_size=(3, 3), stride=(1, 1), padding=(1, 1))\n",
       "      (3): ReLU(inplace=True)\n",
       "      (4): MaxPool2d(kernel_size=2, stride=2, padding=0, dilation=1, ceil_mode=False)\n",
       "      (5): Conv2d(64, 128, kernel_size=(3, 3), stride=(1, 1), padding=(1, 1))\n",
       "      (6): ReLU(inplace=True)\n",
       "      (7): Conv2d(128, 128, kernel_size=(3, 3), stride=(1, 1), padding=(1, 1))\n",
       "      (8): ReLU(inplace=True)\n",
       "      (9): MaxPool2d(kernel_size=2, stride=2, padding=0, dilation=1, ceil_mode=False)\n",
       "      (10): Conv2d(128, 256, kernel_size=(3, 3), stride=(1, 1), padding=(1, 1))\n",
       "      (11): ReLU(inplace=True)\n",
       "      (12): Conv2d(256, 256, kernel_size=(3, 3), stride=(1, 1), padding=(1, 1))\n",
       "      (13): ReLU(inplace=True)\n",
       "      (14): Conv2d(256, 256, kernel_size=(3, 3), stride=(1, 1), padding=(1, 1))\n",
       "      (15): ReLU(inplace=True)\n",
       "      (16): MaxPool2d(kernel_size=2, stride=2, padding=0, dilation=1, ceil_mode=True)\n",
       "      (17): Conv2d(256, 512, kernel_size=(3, 3), stride=(1, 1), padding=(1, 1))\n",
       "      (18): ReLU(inplace=True)\n",
       "      (19): Conv2d(512, 512, kernel_size=(3, 3), stride=(1, 1), padding=(1, 1))\n",
       "      (20): ReLU(inplace=True)\n",
       "      (21): Conv2d(512, 512, kernel_size=(3, 3), stride=(1, 1), padding=(1, 1))\n",
       "      (22): ReLU(inplace=True)\n",
       "    )\n",
       "    (extra): ModuleList(\n",
       "      (0): Sequential(\n",
       "        (0): MaxPool2d(kernel_size=2, stride=2, padding=0, dilation=1, ceil_mode=False)\n",
       "        (1): Conv2d(512, 512, kernel_size=(3, 3), stride=(1, 1), padding=(1, 1))\n",
       "        (2): ReLU(inplace=True)\n",
       "        (3): Conv2d(512, 512, kernel_size=(3, 3), stride=(1, 1), padding=(1, 1))\n",
       "        (4): ReLU(inplace=True)\n",
       "        (5): Conv2d(512, 512, kernel_size=(3, 3), stride=(1, 1), padding=(1, 1))\n",
       "        (6): ReLU(inplace=True)\n",
       "        (7): Sequential(\n",
       "          (0): MaxPool2d(kernel_size=3, stride=1, padding=1, dilation=1, ceil_mode=False)\n",
       "          (1): Conv2d(512, 1024, kernel_size=(3, 3), stride=(1, 1), padding=(6, 6), dilation=(6, 6))\n",
       "          (2): ReLU(inplace=True)\n",
       "          (3): Conv2d(1024, 1024, kernel_size=(1, 1), stride=(1, 1))\n",
       "          (4): ReLU(inplace=True)\n",
       "        )\n",
       "      )\n",
       "      (1): Sequential(\n",
       "        (0): Conv2d(1024, 256, kernel_size=(1, 1), stride=(1, 1))\n",
       "        (1): ReLU(inplace=True)\n",
       "        (2): Conv2d(256, 512, kernel_size=(3, 3), stride=(2, 2), padding=(1, 1))\n",
       "        (3): ReLU(inplace=True)\n",
       "      )\n",
       "      (2): Sequential(\n",
       "        (0): Conv2d(512, 128, kernel_size=(1, 1), stride=(1, 1))\n",
       "        (1): ReLU(inplace=True)\n",
       "        (2): Conv2d(128, 256, kernel_size=(3, 3), stride=(2, 2), padding=(1, 1))\n",
       "        (3): ReLU(inplace=True)\n",
       "      )\n",
       "      (3-4): 2 x Sequential(\n",
       "        (0): Conv2d(256, 128, kernel_size=(1, 1), stride=(1, 1))\n",
       "        (1): ReLU(inplace=True)\n",
       "        (2): Conv2d(128, 256, kernel_size=(3, 3), stride=(1, 1))\n",
       "        (3): ReLU(inplace=True)\n",
       "      )\n",
       "    )\n",
       "  )\n",
       "  (anchor_generator): DefaultBoxGenerator(aspect_ratios=[[2], [2, 3], [2, 3], [2, 3], [2], [2]], clip=True, scales=[0.07, 0.15, 0.33, 0.51, 0.69, 0.87, 1.05], steps=[8, 16, 32, 64, 100, 300])\n",
       "  (head): SSDHead(\n",
       "    (classification_head): SSDClassificationHead(\n",
       "      (module_list): ModuleList(\n",
       "        (0): Conv2d(512, 364, kernel_size=(3, 3), stride=(1, 1), padding=(1, 1))\n",
       "        (1): Conv2d(1024, 546, kernel_size=(3, 3), stride=(1, 1), padding=(1, 1))\n",
       "        (2): Conv2d(512, 546, kernel_size=(3, 3), stride=(1, 1), padding=(1, 1))\n",
       "        (3): Conv2d(256, 546, kernel_size=(3, 3), stride=(1, 1), padding=(1, 1))\n",
       "        (4-5): 2 x Conv2d(256, 364, kernel_size=(3, 3), stride=(1, 1), padding=(1, 1))\n",
       "      )\n",
       "    )\n",
       "    (regression_head): SSDRegressionHead(\n",
       "      (module_list): ModuleList(\n",
       "        (0): Conv2d(512, 16, kernel_size=(3, 3), stride=(1, 1), padding=(1, 1))\n",
       "        (1): Conv2d(1024, 24, kernel_size=(3, 3), stride=(1, 1), padding=(1, 1))\n",
       "        (2): Conv2d(512, 24, kernel_size=(3, 3), stride=(1, 1), padding=(1, 1))\n",
       "        (3): Conv2d(256, 24, kernel_size=(3, 3), stride=(1, 1), padding=(1, 1))\n",
       "        (4-5): 2 x Conv2d(256, 16, kernel_size=(3, 3), stride=(1, 1), padding=(1, 1))\n",
       "      )\n",
       "    )\n",
       "  )\n",
       "  (transform): GeneralizedRCNNTransform(\n",
       "      Normalize(mean=[0.48235, 0.45882, 0.40784], std=[0.00392156862745098, 0.00392156862745098, 0.00392156862745098])\n",
       "      Resize(min_size=(300,), max_size=300, mode='bilinear')\n",
       "  )\n",
       ")"
      ]
     },
     "execution_count": 3,
     "metadata": {},
     "output_type": "execute_result"
    }
   ],
   "source": [
    "model = torchvision.models.detection.ssd300_vgg16(weights=torchvision.models.detection.SSD300_VGG16_Weights.COCO_V1)\n",
    "model.eval()"
   ]
  },
  {
   "cell_type": "code",
   "execution_count": 16,
   "id": "eef769bb-0c21-4353-b704-9b81258f406a",
   "metadata": {},
   "outputs": [
    {
     "name": "stdout",
     "output_type": "stream",
     "text": [
      "8\n",
      "tensor(1)\n",
      "tensor(47)\n",
      "tensor(47)\n",
      "tensor(1)\n",
      "tensor(47)\n",
      "tensor(47)\n",
      "tensor(47)\n",
      "tensor(47)\n"
     ]
    },
    {
     "data": {
      "text/plain": [
       "-1"
      ]
     },
     "execution_count": 16,
     "metadata": {},
     "output_type": "execute_result"
    }
   ],
   "source": [
    "img = cv2.imread(img_p)\n",
    "img = cv2.cvtColor(img, cv2.COLOR_BGR2RGB)\n",
    "#img = cv2.resize(img, down_points, interpolation= cv2.INTER_LINEAR)\n",
    "image = img.copy()\n",
    "img_t = torchvision.transforms.ToTensor()\n",
    "with torch.no_grad():\n",
    "    results = model([img_t(img)])\n",
    "    bbox, scores, labels = results[0]['boxes'], results[0]['scores'], results[0]['labels']\n",
    "    nums = torch.argwhere(scores > 0.50).shape[0]\n",
    "    print(nums)\n",
    "    for i in range(nums):\n",
    "        x, y, w, h = bbox[i].numpy().astype('int')\n",
    "        cv2.rectangle(image, (x, y), (w, h), (0,0,255), 2)\n",
    "        classIDX = labels[i].numpy().astype('int')\n",
    "        cvzone.putTextRect(image, classes_names[classIDX-1], [x, y+10], scale=1, thickness =1)\n",
    "        print(labels[i])\n",
    "cv2.imshow('frame', image)\n",
    "\n",
    "cv2.waitKey(0)"
   ]
  },
  {
   "cell_type": "markdown",
   "id": "2c1c88fe-3e46-4d34-b904-0ef508e7c576",
   "metadata": {},
   "source": [
    "# With Camera\n"
   ]
  },
  {
   "cell_type": "code",
   "execution_count": 10,
   "id": "4a73c8a2-92a1-45fe-8007-2b4ad16e1203",
   "metadata": {},
   "outputs": [],
   "source": [
    "cap = cv2.VideoCapture(0)\n",
    "\n",
    "if not cap.isOpened():\n",
    "    print( \"Error: Could not open camera\" )\n",
    "\n",
    "while True:\n",
    "    ret, frame = cap.read()\n",
    "    if not ret:\n",
    "        print(\"Error: Failed to capture frame\")\n",
    "        break\n",
    "    img = cv2.cvtColor(frame, cv2.COLOR_BGR2RGB)\n",
    "    image = img.copy()\n",
    "    img_t = torchvision.transforms.ToTensor()\n",
    "\n",
    "    with torch.no_grad():\n",
    "        results = model([img_t(img)])\n",
    "        bbox, scores, labels = results[0]['boxes'], results[0]['scores'], results[0]['labels']\n",
    "        nums = torch.argwhere(scores > 0.80).shape[0]\n",
    "        #print(nums)\n",
    "        for i in range(nums):                                   # Iterate over identified objects\n",
    "            x, y, w, h = bbox[i].numpy().astype('int')          # Bbox for plot\n",
    "            cv2.rectangle(frame, (x, y), (w, h), (0,0,255), 5)  # Draw Bbox\n",
    "            classIDX = labels[i].numpy().astype('int')          # Index of class in the classes list        \n",
    "            idf_class = classes_names[classIDX-1]               # Identified Class\n",
    "            # Format string Draw Cv2\n",
    "            f_score = format(float(scores[i]), '.2f')\n",
    "            text = idf_class + \" Score:\" +str(f_score) \n",
    "            # Draw bboxand text\n",
    "\n",
    "            # If person is detected\n",
    "            if(idf_class == 'person'):\n",
    "                text += \" DANGER\"\n",
    "            \n",
    "            cvzone.putTextRect(frame, text, [x, y+10], scale=1, thickness =1)\n",
    "    #print(labels[i])\n",
    "    \n",
    "    cv2.imshow('Webcam', frame)\n",
    "\n",
    "    if( cv2.waitKey(1) & 0xFF == ord('q')):\n",
    "        break\n",
    "cap.release()\n",
    "cv2.destroyAllWindows()"
   ]
  },
  {
   "cell_type": "code",
   "execution_count": null,
   "id": "405af959-3071-4536-8dff-4733dd991928",
   "metadata": {},
   "outputs": [],
   "source": [
    "def process_idf_class( cl ):\n",
    "    if (cl == 'person'):\n",
    "        pass\n",
    "    elif cl == 'dog':\n",
    "        pass\n",
    "    elif cl == ''"
   ]
  },
  {
   "cell_type": "code",
   "execution_count": null,
   "id": "0830ee03-39c3-4fc1-8464-e50f4221ff75",
   "metadata": {},
   "outputs": [],
   "source": []
  },
  {
   "cell_type": "code",
   "execution_count": null,
   "id": "df811c0c-f1f6-4a36-8ad2-11e8090fa47d",
   "metadata": {},
   "outputs": [],
   "source": []
  },
  {
   "cell_type": "code",
   "execution_count": null,
   "id": "1e334e0d-c63b-4cdf-a155-47a1a1358215",
   "metadata": {},
   "outputs": [],
   "source": []
  },
  {
   "cell_type": "code",
   "execution_count": null,
   "id": "35a58669-aac9-4ddb-878b-98ccbdd86407",
   "metadata": {},
   "outputs": [],
   "source": []
  },
  {
   "cell_type": "code",
   "execution_count": null,
   "id": "1700a718-e64b-4dd7-900b-75ace785d54e",
   "metadata": {},
   "outputs": [],
   "source": []
  },
  {
   "cell_type": "code",
   "execution_count": null,
   "id": "fcd052e1-21b0-4b21-9a61-bc3064d48cf0",
   "metadata": {},
   "outputs": [],
   "source": []
  },
  {
   "cell_type": "code",
   "execution_count": null,
   "id": "dccd373d-904a-46b7-a947-8ba83b3237f3",
   "metadata": {},
   "outputs": [],
   "source": []
  },
  {
   "cell_type": "code",
   "execution_count": null,
   "id": "a58fc0a2-9ee4-45e2-85e9-753e3663f2c5",
   "metadata": {},
   "outputs": [],
   "source": []
  }
 ],
 "metadata": {
  "kernelspec": {
   "display_name": "Python 3 (ipykernel)",
   "language": "python",
   "name": "python3"
  },
  "language_info": {
   "codemirror_mode": {
    "name": "ipython",
    "version": 3
   },
   "file_extension": ".py",
   "mimetype": "text/x-python",
   "name": "python",
   "nbconvert_exporter": "python",
   "pygments_lexer": "ipython3",
   "version": "3.11.8"
  }
 },
 "nbformat": 4,
 "nbformat_minor": 5
}
